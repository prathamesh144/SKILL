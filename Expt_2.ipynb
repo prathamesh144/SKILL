{
  "nbformat": 4,
  "nbformat_minor": 0,
  "metadata": {
    "colab": {
      "provenance": [],
      "include_colab_link": true
    },
    "kernelspec": {
      "name": "python3",
      "display_name": "Python 3"
    },
    "language_info": {
      "name": "python"
    }
  },
  "cells": [
    {
      "cell_type": "markdown",
      "metadata": {
        "id": "view-in-github",
        "colab_type": "text"
      },
      "source": [
        "<a href=\"https://colab.research.google.com/github/prathamesh144/SKILL/blob/main/Expt_2.ipynb\" target=\"_parent\"><img src=\"https://colab.research.google.com/assets/colab-badge.svg\" alt=\"Open In Colab\"/></a>"
      ]
    },
    {
      "cell_type": "code",
      "source": [],
      "metadata": {
        "id": "YXuzghgopI6P"
      },
      "execution_count": null,
      "outputs": []
    },
    {
      "cell_type": "markdown",
      "source": [],
      "metadata": {
        "id": "2rBovQ66pISb"
      }
    },
    {
      "cell_type": "code",
      "execution_count": null,
      "metadata": {
        "colab": {
          "base_uri": "https://localhost:8080/"
        },
        "id": "KNZPa_7on8cf",
        "outputId": "b3c34c85-a797-41b6-ce62-dbaf0829cb9e"
      },
      "outputs": [
        {
          "output_type": "stream",
          "name": "stdout",
          "text": [
            "Drive already mounted at /content/drive; to attempt to forcibly remount, call drive.mount(\"/content/drive\", force_remount=True).\n"
          ]
        }
      ],
      "source": [
        "# prompt: mount the drive\n",
        "\n",
        "from google.colab import drive\n",
        "drive.mount('/content/drive')\n"
      ]
    },
    {
      "cell_type": "markdown",
      "source": [
        "Expt2 Data Processing: Cleaning the dataset obtained from UCI-ML Respirasotary  "
      ],
      "metadata": {
        "id": "GgNFp3jFpJ-I"
      }
    },
    {
      "cell_type": "markdown",
      "source": [
        "Steps to clean the dataset"
      ],
      "metadata": {
        "id": "scBGCMAWpeL_"
      }
    },
    {
      "cell_type": "markdown",
      "source": [
        "# 1.)Load The Dataset"
      ],
      "metadata": {
        "id": "ldOkje7SppPW"
      }
    },
    {
      "cell_type": "code",
      "source": [
        "import pandas as pd\n",
        "df=pd.read_csv('/content/drive/MyDrive/Data_Science/heart_attack_indonesia.csv')\n",
        "print(df.head())"
      ],
      "metadata": {
        "colab": {
          "base_uri": "https://localhost:8080/"
        },
        "id": "q4MlBiyboyqY",
        "outputId": "35280a54-ba32-4f5d-fa50-d486cfd2b12b"
      },
      "execution_count": null,
      "outputs": [
        {
          "output_type": "stream",
          "name": "stdout",
          "text": [
            "   ID      State  Age HeartAttack  Gender  Cholesterol SmokingHabits  \\\n",
            "0   1  Pekanbaru   32          No    Male          179        Smoker   \n",
            "1   2   Makassar   15         Yes  Female          201    Non-smoker   \n",
            "2   3   Surabaya   41          No  Female          167    Non-smoker   \n",
            "3   4     Malang   31          No    Male          287        Smoker   \n",
            "4   5       Bali   19          No    Male          239        Smoker   \n",
            "\n",
            "  PhysicalActivity   BMI Hypertension  ... EducationLevel MaritalStatus  \\\n",
            "0             High  19.1          Yes  ...      Secondary        Single   \n",
            "1             High  26.9           No  ...      Secondary       Married   \n",
            "2         Moderate  29.6          Yes  ...        Primary        Single   \n",
            "3         Moderate  19.4           No  ...         Higher        Single   \n",
            "4             High  18.5           No  ...      Secondary       Married   \n",
            "\n",
            "  FamilyHistoryHeartDisease IncomeLevel HealthcareAccess SleepHours  \\\n",
            "0                        No      Middle             Good        7.9   \n",
            "1                        No      Middle          Average        8.5   \n",
            "2                        No      Middle             Poor        7.3   \n",
            "3                       Yes      Middle             Good        4.8   \n",
            "4                        No         Low             Poor        6.0   \n",
            "\n",
            "  UrbanOrRural AirQualityIndex PollutionLevel EmploymentStatus  \n",
            "0        Urban              73           High       Unemployed  \n",
            "1        Urban             266       Moderate       Unemployed  \n",
            "2        Urban             132       Moderate         Employed  \n",
            "3        Rural              64           High       Unemployed  \n",
            "4        Urban             155       Moderate       Unemployed  \n",
            "\n",
            "[5 rows x 25 columns]\n",
            "<class 'pandas.core.frame.DataFrame'>\n",
            "RangeIndex: 170501 entries, 0 to 170500\n",
            "Data columns (total 25 columns):\n",
            " #   Column                     Non-Null Count   Dtype  \n",
            "---  ------                     --------------   -----  \n",
            " 0   ID                         170501 non-null  int64  \n",
            " 1   State                      170501 non-null  object \n",
            " 2   Age                        170501 non-null  int64  \n",
            " 3   HeartAttack                170501 non-null  object \n",
            " 4   Gender                     170501 non-null  object \n",
            " 5   Cholesterol                170501 non-null  int64  \n",
            " 6   SmokingHabits              170501 non-null  object \n",
            " 7   PhysicalActivity           170501 non-null  object \n",
            " 8   BMI                        170501 non-null  float64\n",
            " 9   Hypertension               170501 non-null  object \n",
            " 10  Diabetes                   170501 non-null  object \n",
            " 11  AlcoholConsumption         113873 non-null  object \n",
            " 12  DietType                   170501 non-null  object \n",
            " 13  OccupationType             170501 non-null  object \n",
            " 14  StressLevel                170501 non-null  object \n",
            " 15  EducationLevel             170501 non-null  object \n",
            " 16  MaritalStatus              170501 non-null  object \n",
            " 17  FamilyHistoryHeartDisease  170501 non-null  object \n",
            " 18  IncomeLevel                170501 non-null  object \n",
            " 19  HealthcareAccess           170501 non-null  object \n",
            " 20  SleepHours                 170501 non-null  float64\n",
            " 21  UrbanOrRural               170501 non-null  object \n",
            " 22  AirQualityIndex            170501 non-null  int64  \n",
            " 23  PollutionLevel             170501 non-null  object \n",
            " 24  EmploymentStatus           170501 non-null  object \n",
            "dtypes: float64(2), int64(4), object(19)\n",
            "memory usage: 32.5+ MB\n",
            "None\n",
            "                  ID            Age    Cholesterol            BMI  \\\n",
            "count  170501.000000  170501.000000  170501.000000  170501.000000   \n",
            "mean    85251.000000      39.510132     224.525035      26.511188   \n",
            "std     49219.543461      14.416183      43.230770       4.902923   \n",
            "min         1.000000      15.000000     150.000000      18.000000   \n",
            "25%     42626.000000      27.000000     187.000000      22.300000   \n",
            "50%     85251.000000      40.000000     225.000000      26.500000   \n",
            "75%    127876.000000      52.000000     262.000000      30.800000   \n",
            "max    170501.000000      64.000000     299.000000      35.000000   \n",
            "\n",
            "          SleepHours  AirQualityIndex  \n",
            "count  170501.000000    170501.000000  \n",
            "mean        6.503479       174.802541  \n",
            "std         1.442710        72.150478  \n",
            "min         4.000000        50.000000  \n",
            "25%         5.300000       112.000000  \n",
            "50%         6.500000       175.000000  \n",
            "75%         7.800000       237.000000  \n",
            "max         9.000000       299.000000  \n"
          ]
        }
      ]
    },
    {
      "cell_type": "code",
      "source": [
        "print(df.info())"
      ],
      "metadata": {
        "colab": {
          "base_uri": "https://localhost:8080/"
        },
        "id": "fb4CURciqAmt",
        "outputId": "614fef1d-0035-4db8-b9d5-190aa2b56a2f"
      },
      "execution_count": null,
      "outputs": [
        {
          "output_type": "stream",
          "name": "stdout",
          "text": [
            "<class 'pandas.core.frame.DataFrame'>\n",
            "RangeIndex: 170501 entries, 0 to 170500\n",
            "Data columns (total 25 columns):\n",
            " #   Column                     Non-Null Count   Dtype  \n",
            "---  ------                     --------------   -----  \n",
            " 0   ID                         170501 non-null  int64  \n",
            " 1   State                      170501 non-null  object \n",
            " 2   Age                        170501 non-null  int64  \n",
            " 3   HeartAttack                170501 non-null  object \n",
            " 4   Gender                     170501 non-null  object \n",
            " 5   Cholesterol                170501 non-null  int64  \n",
            " 6   SmokingHabits              170501 non-null  object \n",
            " 7   PhysicalActivity           170501 non-null  object \n",
            " 8   BMI                        170501 non-null  float64\n",
            " 9   Hypertension               170501 non-null  object \n",
            " 10  Diabetes                   170501 non-null  object \n",
            " 11  AlcoholConsumption         113873 non-null  object \n",
            " 12  DietType                   170501 non-null  object \n",
            " 13  OccupationType             170501 non-null  object \n",
            " 14  StressLevel                170501 non-null  object \n",
            " 15  EducationLevel             170501 non-null  object \n",
            " 16  MaritalStatus              170501 non-null  object \n",
            " 17  FamilyHistoryHeartDisease  170501 non-null  object \n",
            " 18  IncomeLevel                170501 non-null  object \n",
            " 19  HealthcareAccess           170501 non-null  object \n",
            " 20  SleepHours                 170501 non-null  float64\n",
            " 21  UrbanOrRural               170501 non-null  object \n",
            " 22  AirQualityIndex            170501 non-null  int64  \n",
            " 23  PollutionLevel             170501 non-null  object \n",
            " 24  EmploymentStatus           170501 non-null  object \n",
            "dtypes: float64(2), int64(4), object(19)\n",
            "memory usage: 32.5+ MB\n",
            "None\n"
          ]
        }
      ]
    },
    {
      "cell_type": "code",
      "source": [
        "print(df.describe())"
      ],
      "metadata": {
        "colab": {
          "base_uri": "https://localhost:8080/"
        },
        "id": "noMVla3Oqas9",
        "outputId": "ef5b11f3-c9e3-4a78-ec0e-337159f8c2c9"
      },
      "execution_count": null,
      "outputs": [
        {
          "output_type": "stream",
          "name": "stdout",
          "text": [
            "                  ID            Age    Cholesterol            BMI  \\\n",
            "count  170501.000000  170501.000000  170501.000000  170501.000000   \n",
            "mean    85251.000000      39.510132     224.525035      26.511188   \n",
            "std     49219.543461      14.416183      43.230770       4.902923   \n",
            "min         1.000000      15.000000     150.000000      18.000000   \n",
            "25%     42626.000000      27.000000     187.000000      22.300000   \n",
            "50%     85251.000000      40.000000     225.000000      26.500000   \n",
            "75%    127876.000000      52.000000     262.000000      30.800000   \n",
            "max    170501.000000      64.000000     299.000000      35.000000   \n",
            "\n",
            "          SleepHours  AirQualityIndex  \n",
            "count  170501.000000    170501.000000  \n",
            "mean        6.503479       174.802541  \n",
            "std         1.442710        72.150478  \n",
            "min         4.000000        50.000000  \n",
            "25%         5.300000       112.000000  \n",
            "50%         6.500000       175.000000  \n",
            "75%         7.800000       237.000000  \n",
            "max         9.000000       299.000000  \n"
          ]
        }
      ]
    },
    {
      "cell_type": "code",
      "source": [
        "# Handle missing Data chech for missing values\n",
        "print(df.isnull().sum())"
      ],
      "metadata": {
        "colab": {
          "base_uri": "https://localhost:8080/"
        },
        "id": "1Q8dWNGEqbFR",
        "outputId": "5f3c59a9-b314-40da-e837-d85c0f9c48b9"
      },
      "execution_count": null,
      "outputs": [
        {
          "output_type": "stream",
          "name": "stdout",
          "text": [
            "ID                               0\n",
            "State                            0\n",
            "Age                              0\n",
            "HeartAttack                      0\n",
            "Gender                           0\n",
            "Cholesterol                      0\n",
            "SmokingHabits                    0\n",
            "PhysicalActivity                 0\n",
            "BMI                              0\n",
            "Hypertension                     0\n",
            "Diabetes                         0\n",
            "AlcoholConsumption           56628\n",
            "DietType                         0\n",
            "OccupationType                   0\n",
            "StressLevel                      0\n",
            "EducationLevel                   0\n",
            "MaritalStatus                    0\n",
            "FamilyHistoryHeartDisease        0\n",
            "IncomeLevel                      0\n",
            "HealthcareAccess                 0\n",
            "SleepHours                       0\n",
            "UrbanOrRural                     0\n",
            "AirQualityIndex                  0\n",
            "PollutionLevel                   0\n",
            "EmploymentStatus                 0\n",
            "dtype: int64\n"
          ]
        }
      ]
    },
    {
      "cell_type": "code",
      "source": [
        "# Drop rows/columns\n",
        "df=df.dropna() # drop rows"
      ],
      "metadata": {
        "id": "R-1suB5dq6Em"
      },
      "execution_count": null,
      "outputs": []
    },
    {
      "cell_type": "code",
      "source": [
        "df=df.dropna(axis=1) #drop columns"
      ],
      "metadata": {
        "id": "5xSWW1uXrGFb"
      },
      "execution_count": null,
      "outputs": []
    },
    {
      "cell_type": "code",
      "source": [
        "# check for duplicates\n",
        "print(df.duplicated().sum())"
      ],
      "metadata": {
        "colab": {
          "base_uri": "https://localhost:8080/"
        },
        "id": "rjNS-7V3rLHA",
        "outputId": "9d166bd4-c068-4159-e7e5-990ce557cf68"
      },
      "execution_count": null,
      "outputs": [
        {
          "output_type": "stream",
          "name": "stdout",
          "text": [
            "0\n"
          ]
        }
      ]
    },
    {
      "cell_type": "code",
      "source": [
        "df=df.drop_duplicates() # remove duplicates"
      ],
      "metadata": {
        "id": "aIJc7EOureFh"
      },
      "execution_count": null,
      "outputs": []
    },
    {
      "cell_type": "markdown",
      "source": [
        "Handle Outliners"
      ],
      "metadata": {
        "id": "TCqCwz_Vr4kL"
      }
    },
    {
      "cell_type": "code",
      "source": [
        "q1=df['Age'].quantile(0.25)\n",
        "q3=df['Age'].quantile(0.75)\n",
        "iqr=q3-q1\n",
        "df=df[~((df['Age']<(q1-1.5*iqr))|(df['Age']>(q3+1.5*iqr)))]"
      ],
      "metadata": {
        "id": "4EsbwAYBrmwE"
      },
      "execution_count": null,
      "outputs": []
    },
    {
      "cell_type": "markdown",
      "source": [
        "**Standardized Data Dormat**"
      ],
      "metadata": {
        "id": "Ds4KzaGnsyVu"
      }
    },
    {
      "cell_type": "code",
      "source": [
        "# Convert categorical data into consistent formats\n",
        "df['State']=df['State'].str.lower().str.strip() #convert date columns into date time objects"
      ],
      "metadata": {
        "id": "7xeBTzxYsVqr"
      },
      "execution_count": null,
      "outputs": []
    },
    {
      "cell_type": "code",
      "source": [],
      "metadata": {
        "id": "Fvn8EPyUtZfs"
      },
      "execution_count": null,
      "outputs": []
    }
  ]
}